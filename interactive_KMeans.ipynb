{
 "cells": [
  {
   "cell_type": "code",
   "execution_count": 1,
   "id": "b89a50a4-9bdb-4bad-9023-7cca19face51",
   "metadata": {},
   "outputs": [
    {
     "data": {
      "application/vnd.jupyter.widget-view+json": {
       "model_id": "7308e6832bbb4b9e938a97ed45c8be28",
       "version_major": 2,
       "version_minor": 0
      },
      "text/plain": [
       "VBox(children=(IntSlider(value=3, description='Clusters:', max=10, min=2), IntSlider(value=10, description='In…"
      ]
     },
     "metadata": {},
     "output_type": "display_data"
    },
    {
     "data": {
      "application/vnd.jupyter.widget-view+json": {
       "model_id": "07457d0754e44127af83eb3165cc4418",
       "version_major": 2,
       "version_minor": 0
      },
      "text/plain": [
       "Output()"
      ]
     },
     "metadata": {},
     "output_type": "display_data"
    }
   ],
   "source": [
    "import numpy as np\n",
    "import matplotlib.pyplot as plt\n",
    "from sklearn.cluster import KMeans\n",
    "from sklearn.datasets import make_blobs\n",
    "import ipywidgets as widgets\n",
    "from IPython.display import display\n",
    "\n",
    "# Generiere zufällige Daten\n",
    "def generate_data(n_samples=300):\n",
    "    X, _ = make_blobs(n_samples=n_samples, centers=4, cluster_std=0.60, random_state=0)\n",
    "    return X\n",
    "\n",
    "X = generate_data()\n",
    "\n",
    "# Diese Funktion führt k-Means durch und visualisiert die Ergebnisse. Die Funktion wird aufgerufen, wenn sich die Widgets änderns\n",
    "def plot_kmeans(n_clusters=3, n_init=10):\n",
    "    kmeans = KMeans(n_clusters=n_clusters, n_init=n_init, random_state=0)\n",
    "    y_kmeans = kmeans.fit_predict(X)\n",
    "\n",
    "    plt.figure(figsize=(12, 8))\n",
    "    plt.scatter(X[:, 0], X[:, 1], c=y_kmeans, s=50, cmap='viridis')\n",
    "\n",
    "    centers = kmeans.cluster_centers_\n",
    "    plt.scatter(centers[:, 0], centers[:, 1], c='red', s=300, alpha=0.6)\n",
    "    plt.title(f'K-Means Clustering with {n_clusters} clusters and {n_init} initializations')\n",
    "    plt.xlabel('Feature 1')\n",
    "    plt.ylabel('Feature 2')\n",
    "    plt.show()\n",
    "\n",
    "# Widget für die Anzahl der Cluster\n",
    "cluster_slider = widgets.IntSlider(value=3, min=2, max=10, step=1, description='Clusters:')\n",
    "\n",
    "# Widget für die Anzahl der Initialisierungen\n",
    "init_slider = widgets.IntSlider(value=10, min=1, max=20, step=1, description='Initializations:')\n",
    "\n",
    "# Interaktive Widgets\n",
    "ui = widgets.VBox([cluster_slider, init_slider])\n",
    "out = widgets.interactive_output(plot_kmeans, {'n_clusters': cluster_slider, 'n_init': init_slider})\n",
    "\n",
    "display(ui, out)"
   ]
  }
 ],
 "metadata": {
  "kernelspec": {
   "display_name": "Python 3 (ipykernel)",
   "language": "python",
   "name": "python3"
  },
  "language_info": {
   "codemirror_mode": {
    "name": "ipython",
    "version": 3
   },
   "file_extension": ".py",
   "mimetype": "text/x-python",
   "name": "python",
   "nbconvert_exporter": "python",
   "pygments_lexer": "ipython3",
   "version": "3.11.8"
  }
 },
 "nbformat": 4,
 "nbformat_minor": 5
}
